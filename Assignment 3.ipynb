{
 "cells": [
  {
   "cell_type": "markdown",
   "id": "e1106501",
   "metadata": {},
   "source": [
    "# @Author : Yash Goswami."
   ]
  },
  {
   "cell_type": "markdown",
   "id": "3065bed0",
   "metadata": {},
   "source": [
    "# 1.1 Write a Python Program to implement your own myreduce() function which works exactly like Python's built-in function reduce() "
   ]
  },
  {
   "cell_type": "code",
   "execution_count": 1,
   "id": "0f975f80",
   "metadata": {},
   "outputs": [
    {
     "data": {
      "text/plain": [
       "24"
      ]
     },
     "execution_count": 1,
     "metadata": {},
     "output_type": "execute_result"
    }
   ],
   "source": [
    "# reduce Function:\n",
    "import functools\n",
    "functools.reduce(lambda a,b:a*b,[1,2,3,4])"
   ]
  },
  {
   "cell_type": "code",
   "execution_count": 2,
   "id": "86bf8f63",
   "metadata": {},
   "outputs": [
    {
     "data": {
      "text/plain": [
       "24"
      ]
     },
     "execution_count": 2,
     "metadata": {},
     "output_type": "execute_result"
    }
   ],
   "source": [
    "def myreduce(function,iterable):\n",
    "    \"\"\"Apply a function of two arguments with one function and with any iterable object,\n",
    "       so as to reduce the sequence to a single value.\"\"\"\n",
    "    ans=function(iterable[0],iterable[1])\n",
    "    for i in range(2,len(iterable)):\n",
    "        ans=function(ans,iterable[i])\n",
    "    return ans\n",
    "    \n",
    "myreduce(lambda a,b:a*b,[1,2,3,4])"
   ]
  },
  {
   "cell_type": "markdown",
   "id": "5185b548",
   "metadata": {},
   "source": [
    "# 1.2 Write a Python program to implement your own myfilter() function which works exactly like Python's built-in function filter()"
   ]
  },
  {
   "cell_type": "code",
   "execution_count": 3,
   "id": "2d93c3d7",
   "metadata": {},
   "outputs": [
    {
     "name": "stdout",
     "output_type": "stream",
     "text": [
      "a\n",
      "a\n",
      "i\n"
     ]
    }
   ],
   "source": [
    "vowels=['a','e','i','o','u']\n",
    "y=filter(lambda x: x in vowels ,['m','n','y','a','c','a','i'])\n",
    "for i in y:\n",
    "    print(i)"
   ]
  },
  {
   "cell_type": "code",
   "execution_count": 4,
   "id": "d5816ad7",
   "metadata": {},
   "outputs": [
    {
     "name": "stdout",
     "output_type": "stream",
     "text": [
      "['a', 'a', 'i']\n"
     ]
    }
   ],
   "source": [
    "def myfilter(function,iterable):\n",
    "    '''Return an iterator yielding those items of iterable for which function(item)\n",
    "       is true. If function is None, return the items that are true.\n",
    "    '''\n",
    "    result=[]\n",
    "    for i in iterable:\n",
    "        if function(i):\n",
    "            result.append(i)\n",
    "    return result\n",
    "vowels=['a','e','i','o','u']\n",
    "print(myfilter(lambda x: x in vowels ,['m','n','y','a','c','a','i']))"
   ]
  },
  {
   "cell_type": "markdown",
   "id": "fb4ca108",
   "metadata": {},
   "source": [
    "# 2. Implement List comprehensions to produce the following lists. \n"
   ]
  },
  {
   "cell_type": "markdown",
   "id": "3761fc12",
   "metadata": {},
   "source": [
    "### 2A.['x', 'xx', 'xxx', 'xxxx', 'y', 'yy', 'yyy', 'yyyy', 'z', 'zz', 'zzz', 'zzzz'] "
   ]
  },
  {
   "cell_type": "code",
   "execution_count": 5,
   "id": "7e66b348",
   "metadata": {},
   "outputs": [
    {
     "name": "stdout",
     "output_type": "stream",
     "text": [
      "['x', 'xx', 'xxx', 'xxxx', 'y', 'yy', 'yyy', 'yyyy', 'z', 'zz', 'zzz', 'zzzz']"
     ]
    }
   ],
   "source": [
    "print([i*j for i in 'xyz' for j in range(1,5)],end='')"
   ]
  },
  {
   "cell_type": "markdown",
   "id": "33fbe28e",
   "metadata": {},
   "source": [
    "### 2B.['x', 'y', 'z', 'xx', 'yy', 'zz', 'xxx', 'yyy', 'zzz', 'xxxx', 'yyyy', 'zzzz']"
   ]
  },
  {
   "cell_type": "code",
   "execution_count": 6,
   "id": "170d0ad8",
   "metadata": {},
   "outputs": [
    {
     "name": "stdout",
     "output_type": "stream",
     "text": [
      "['x', 'y', 'z', 'xx', 'yy', 'zz', 'xxx', 'yyy', 'zzz', 'xxxx', 'yyyy', 'zzzz']"
     ]
    }
   ],
   "source": [
    "print([i*j for i in range(1,5) for j in 'xyz'],end='')"
   ]
  },
  {
   "cell_type": "markdown",
   "id": "c61d5fbf",
   "metadata": {},
   "source": [
    "### 2C.[[2], [3], [4], [3], [4], [5], [4], [5], [6]]"
   ]
  },
  {
   "cell_type": "code",
   "execution_count": 7,
   "id": "b7abc3b5",
   "metadata": {},
   "outputs": [
    {
     "name": "stdout",
     "output_type": "stream",
     "text": [
      "[[2], [3], [4], [3], [4], [5], [4], [5], [6]]\n"
     ]
    }
   ],
   "source": [
    "print([[i+j] for i in [2,3,4] for j in range(3)])"
   ]
  },
  {
   "cell_type": "markdown",
   "id": "795da593",
   "metadata": {},
   "source": [
    "### 2D. [[2, 3, 4, 5], [3, 4, 5, 6],[4, 5, 6, 7], [5, 6, 7, 8]]"
   ]
  },
  {
   "cell_type": "code",
   "execution_count": 8,
   "id": "d1ef5190",
   "metadata": {},
   "outputs": [
    {
     "name": "stdout",
     "output_type": "stream",
     "text": [
      "[[2, 3, 4, 5], [3, 4, 5, 6], [4, 5, 6, 7], [5, 6, 7, 8]]\n"
     ]
    }
   ],
   "source": [
    "print([[x+i for x in range(2,6)] for i in range(4)] )"
   ]
  },
  {
   "cell_type": "markdown",
   "id": "b87c72f9",
   "metadata": {},
   "source": [
    "###  2E.[(1, 1), (2, 1), (3, 1), (1, 2), (2, 2), (3, 2), (1, 3), (2, 3), (3, 3)]"
   ]
  },
  {
   "cell_type": "code",
   "execution_count": 9,
   "id": "5710b6ba",
   "metadata": {},
   "outputs": [
    {
     "name": "stdout",
     "output_type": "stream",
     "text": [
      "[(1, 1), (2, 1), (3, 1), (1, 2), (2, 2), (3, 2), (1, 3), (2, 3), (3, 3)]\n"
     ]
    }
   ],
   "source": [
    "print([(j,i) for i in range(1,4) for j in range(1,4)])"
   ]
  },
  {
   "cell_type": "code",
   "execution_count": null,
   "id": "4661c477",
   "metadata": {},
   "outputs": [],
   "source": []
  }
 ],
 "metadata": {
  "kernelspec": {
   "display_name": "Python 3",
   "language": "python",
   "name": "python3"
  },
  "language_info": {
   "codemirror_mode": {
    "name": "ipython",
    "version": 3
   },
   "file_extension": ".py",
   "mimetype": "text/x-python",
   "name": "python",
   "nbconvert_exporter": "python",
   "pygments_lexer": "ipython3",
   "version": "3.8.8"
  }
 },
 "nbformat": 4,
 "nbformat_minor": 5
}
